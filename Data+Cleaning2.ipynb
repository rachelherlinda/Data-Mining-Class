{
 "cells": [
  {
   "cell_type": "markdown",
   "metadata": {},
   "source": [
    "# Data Cleaning"
   ]
  },
  {
   "cell_type": "code",
   "execution_count": 1,
   "metadata": {},
   "outputs": [],
   "source": [
    "import pandas as pd\n",
    "import numpy as np\n",
    "import matplotlib.pyplot as plt\n",
    "import seaborn as sns"
   ]
  },
  {
   "cell_type": "code",
   "execution_count": 2,
   "metadata": {},
   "outputs": [],
   "source": [
    "data = pd.read_csv('hepatitis.csv')"
   ]
  },
  {
   "cell_type": "code",
   "execution_count": 3,
   "metadata": {},
   "outputs": [
    {
     "data": {
      "text/plain": [
       "(155, 11)"
      ]
     },
     "execution_count": 3,
     "metadata": {},
     "output_type": "execute_result"
    }
   ],
   "source": [
    "data.shape"
   ]
  },
  {
   "cell_type": "code",
   "execution_count": 4,
   "metadata": {},
   "outputs": [
    {
     "data": {
      "text/html": [
       "<div>\n",
       "<style scoped>\n",
       "    .dataframe tbody tr th:only-of-type {\n",
       "        vertical-align: middle;\n",
       "    }\n",
       "\n",
       "    .dataframe tbody tr th {\n",
       "        vertical-align: top;\n",
       "    }\n",
       "\n",
       "    .dataframe thead th {\n",
       "        text-align: right;\n",
       "    }\n",
       "</style>\n",
       "<table border=\"1\" class=\"dataframe\">\n",
       "  <thead>\n",
       "    <tr style=\"text-align: right;\">\n",
       "      <th></th>\n",
       "      <th>Class</th>\n",
       "      <th>Age</th>\n",
       "      <th>Sex</th>\n",
       "      <th>Steroid</th>\n",
       "      <th>Anaroxia</th>\n",
       "      <th>Spleen Pabable</th>\n",
       "      <th>Spiders</th>\n",
       "      <th>Bilirubin</th>\n",
       "      <th>Alk Phospat</th>\n",
       "      <th>Albumin</th>\n",
       "      <th>Protime</th>\n",
       "    </tr>\n",
       "  </thead>\n",
       "  <tbody>\n",
       "    <tr>\n",
       "      <th>0</th>\n",
       "      <td>die</td>\n",
       "      <td>30</td>\n",
       "      <td>female</td>\n",
       "      <td>no</td>\n",
       "      <td>yes</td>\n",
       "      <td>yes</td>\n",
       "      <td>yes</td>\n",
       "      <td>1.0</td>\n",
       "      <td>85.0</td>\n",
       "      <td>4.0</td>\n",
       "      <td>NaN</td>\n",
       "    </tr>\n",
       "    <tr>\n",
       "      <th>1</th>\n",
       "      <td>die</td>\n",
       "      <td>50</td>\n",
       "      <td>male</td>\n",
       "      <td>no</td>\n",
       "      <td>yes</td>\n",
       "      <td>yes</td>\n",
       "      <td>yes</td>\n",
       "      <td>0.9</td>\n",
       "      <td>135.0</td>\n",
       "      <td>3.5</td>\n",
       "      <td>NaN</td>\n",
       "    </tr>\n",
       "    <tr>\n",
       "      <th>2</th>\n",
       "      <td>die</td>\n",
       "      <td>78</td>\n",
       "      <td>male</td>\n",
       "      <td>yes</td>\n",
       "      <td>yes</td>\n",
       "      <td>yes</td>\n",
       "      <td>yes</td>\n",
       "      <td>0.7</td>\n",
       "      <td>96.0</td>\n",
       "      <td>4.0</td>\n",
       "      <td>NaN</td>\n",
       "    </tr>\n",
       "    <tr>\n",
       "      <th>3</th>\n",
       "      <td>die</td>\n",
       "      <td>31</td>\n",
       "      <td>male</td>\n",
       "      <td>NaN</td>\n",
       "      <td>yes</td>\n",
       "      <td>yes</td>\n",
       "      <td>yes</td>\n",
       "      <td>0.7</td>\n",
       "      <td>46.0</td>\n",
       "      <td>4.0</td>\n",
       "      <td>80.0</td>\n",
       "    </tr>\n",
       "    <tr>\n",
       "      <th>4</th>\n",
       "      <td>die</td>\n",
       "      <td>34</td>\n",
       "      <td>male</td>\n",
       "      <td>yes</td>\n",
       "      <td>yes</td>\n",
       "      <td>yes</td>\n",
       "      <td>yes</td>\n",
       "      <td>1.0</td>\n",
       "      <td>NaN</td>\n",
       "      <td>4.0</td>\n",
       "      <td>NaN</td>\n",
       "    </tr>\n",
       "  </tbody>\n",
       "</table>\n",
       "</div>"
      ],
      "text/plain": [
       "  Class  Age     Sex Steroid Anaroxia Spleen Pabable Spiders  Bilirubin  \\\n",
       "0   die   30  female      no      yes            yes     yes        1.0   \n",
       "1   die   50    male      no      yes            yes     yes        0.9   \n",
       "2   die   78    male     yes      yes            yes     yes        0.7   \n",
       "3   die   31    male     NaN      yes            yes     yes        0.7   \n",
       "4   die   34    male     yes      yes            yes     yes        1.0   \n",
       "\n",
       "   Alk Phospat  Albumin  Protime  \n",
       "0         85.0      4.0      NaN  \n",
       "1        135.0      3.5      NaN  \n",
       "2         96.0      4.0      NaN  \n",
       "3         46.0      4.0     80.0  \n",
       "4          NaN      4.0      NaN  "
      ]
     },
     "execution_count": 4,
     "metadata": {},
     "output_type": "execute_result"
    }
   ],
   "source": [
    "data.head(n=5)"
   ]
  },
  {
   "cell_type": "code",
   "execution_count": 5,
   "metadata": {},
   "outputs": [
    {
     "data": {
      "text/html": [
       "<div>\n",
       "<style scoped>\n",
       "    .dataframe tbody tr th:only-of-type {\n",
       "        vertical-align: middle;\n",
       "    }\n",
       "\n",
       "    .dataframe tbody tr th {\n",
       "        vertical-align: top;\n",
       "    }\n",
       "\n",
       "    .dataframe thead th {\n",
       "        text-align: right;\n",
       "    }\n",
       "</style>\n",
       "<table border=\"1\" class=\"dataframe\">\n",
       "  <thead>\n",
       "    <tr style=\"text-align: right;\">\n",
       "      <th></th>\n",
       "      <th>Class</th>\n",
       "      <th>Age</th>\n",
       "      <th>Sex</th>\n",
       "      <th>Steroid</th>\n",
       "      <th>Anaroxia</th>\n",
       "      <th>Spleen Pabable</th>\n",
       "      <th>Spiders</th>\n",
       "      <th>Bilirubin</th>\n",
       "      <th>Alk Phospat</th>\n",
       "      <th>Albumin</th>\n",
       "      <th>Protime</th>\n",
       "    </tr>\n",
       "  </thead>\n",
       "  <tbody>\n",
       "    <tr>\n",
       "      <th>150</th>\n",
       "      <td>life</td>\n",
       "      <td>46</td>\n",
       "      <td>male</td>\n",
       "      <td>yes</td>\n",
       "      <td>no</td>\n",
       "      <td>yes</td>\n",
       "      <td>no</td>\n",
       "      <td>7.6</td>\n",
       "      <td>NaN</td>\n",
       "      <td>3.3</td>\n",
       "      <td>50.0</td>\n",
       "    </tr>\n",
       "    <tr>\n",
       "      <th>151</th>\n",
       "      <td>die</td>\n",
       "      <td>44</td>\n",
       "      <td>male</td>\n",
       "      <td>yes</td>\n",
       "      <td>yes</td>\n",
       "      <td>yes</td>\n",
       "      <td>yes</td>\n",
       "      <td>0.9</td>\n",
       "      <td>126.0</td>\n",
       "      <td>4.3</td>\n",
       "      <td>NaN</td>\n",
       "    </tr>\n",
       "    <tr>\n",
       "      <th>152</th>\n",
       "      <td>die</td>\n",
       "      <td>61</td>\n",
       "      <td>male</td>\n",
       "      <td>no</td>\n",
       "      <td>yes</td>\n",
       "      <td>yes</td>\n",
       "      <td>no</td>\n",
       "      <td>0.8</td>\n",
       "      <td>75.0</td>\n",
       "      <td>4.1</td>\n",
       "      <td>NaN</td>\n",
       "    </tr>\n",
       "    <tr>\n",
       "      <th>153</th>\n",
       "      <td>die</td>\n",
       "      <td>53</td>\n",
       "      <td>female</td>\n",
       "      <td>no</td>\n",
       "      <td>yes</td>\n",
       "      <td>no</td>\n",
       "      <td>no</td>\n",
       "      <td>1.5</td>\n",
       "      <td>81.0</td>\n",
       "      <td>4.1</td>\n",
       "      <td>48.0</td>\n",
       "    </tr>\n",
       "    <tr>\n",
       "      <th>154</th>\n",
       "      <td>life</td>\n",
       "      <td>43</td>\n",
       "      <td>male</td>\n",
       "      <td>yes</td>\n",
       "      <td>yes</td>\n",
       "      <td>no</td>\n",
       "      <td>no</td>\n",
       "      <td>1.2</td>\n",
       "      <td>100.0</td>\n",
       "      <td>3.1</td>\n",
       "      <td>42.0</td>\n",
       "    </tr>\n",
       "  </tbody>\n",
       "</table>\n",
       "</div>"
      ],
      "text/plain": [
       "    Class  Age     Sex Steroid Anaroxia Spleen Pabable Spiders  Bilirubin  \\\n",
       "150  life   46    male     yes       no            yes      no        7.6   \n",
       "151   die   44    male     yes      yes            yes     yes        0.9   \n",
       "152   die   61    male      no      yes            yes      no        0.8   \n",
       "153   die   53  female      no      yes             no      no        1.5   \n",
       "154  life   43    male     yes      yes             no      no        1.2   \n",
       "\n",
       "     Alk Phospat  Albumin  Protime  \n",
       "150          NaN      3.3     50.0  \n",
       "151        126.0      4.3      NaN  \n",
       "152         75.0      4.1      NaN  \n",
       "153         81.0      4.1     48.0  \n",
       "154        100.0      3.1     42.0  "
      ]
     },
     "execution_count": 5,
     "metadata": {},
     "output_type": "execute_result"
    }
   ],
   "source": [
    "data.tail(n=5)"
   ]
  },
  {
   "cell_type": "code",
   "execution_count": 6,
   "metadata": {},
   "outputs": [
    {
     "data": {
      "text/html": [
       "<div>\n",
       "<style scoped>\n",
       "    .dataframe tbody tr th:only-of-type {\n",
       "        vertical-align: middle;\n",
       "    }\n",
       "\n",
       "    .dataframe tbody tr th {\n",
       "        vertical-align: top;\n",
       "    }\n",
       "\n",
       "    .dataframe thead th {\n",
       "        text-align: right;\n",
       "    }\n",
       "</style>\n",
       "<table border=\"1\" class=\"dataframe\">\n",
       "  <thead>\n",
       "    <tr style=\"text-align: right;\">\n",
       "      <th></th>\n",
       "      <th>Age</th>\n",
       "      <th>Bilirubin</th>\n",
       "      <th>Alk Phospat</th>\n",
       "      <th>Albumin</th>\n",
       "      <th>Protime</th>\n",
       "    </tr>\n",
       "  </thead>\n",
       "  <tbody>\n",
       "    <tr>\n",
       "      <th>count</th>\n",
       "      <td>155.000000</td>\n",
       "      <td>149.000000</td>\n",
       "      <td>126.000000</td>\n",
       "      <td>139.000000</td>\n",
       "      <td>88.000000</td>\n",
       "    </tr>\n",
       "    <tr>\n",
       "      <th>mean</th>\n",
       "      <td>41.200000</td>\n",
       "      <td>1.427517</td>\n",
       "      <td>105.325397</td>\n",
       "      <td>3.817266</td>\n",
       "      <td>61.852273</td>\n",
       "    </tr>\n",
       "    <tr>\n",
       "      <th>std</th>\n",
       "      <td>12.565878</td>\n",
       "      <td>1.212149</td>\n",
       "      <td>51.508109</td>\n",
       "      <td>0.651523</td>\n",
       "      <td>22.875244</td>\n",
       "    </tr>\n",
       "    <tr>\n",
       "      <th>min</th>\n",
       "      <td>7.000000</td>\n",
       "      <td>0.300000</td>\n",
       "      <td>26.000000</td>\n",
       "      <td>2.100000</td>\n",
       "      <td>0.000000</td>\n",
       "    </tr>\n",
       "    <tr>\n",
       "      <th>25%</th>\n",
       "      <td>32.000000</td>\n",
       "      <td>0.700000</td>\n",
       "      <td>74.250000</td>\n",
       "      <td>3.400000</td>\n",
       "      <td>46.000000</td>\n",
       "    </tr>\n",
       "    <tr>\n",
       "      <th>50%</th>\n",
       "      <td>39.000000</td>\n",
       "      <td>1.000000</td>\n",
       "      <td>85.000000</td>\n",
       "      <td>4.000000</td>\n",
       "      <td>61.000000</td>\n",
       "    </tr>\n",
       "    <tr>\n",
       "      <th>75%</th>\n",
       "      <td>50.000000</td>\n",
       "      <td>1.500000</td>\n",
       "      <td>132.250000</td>\n",
       "      <td>4.200000</td>\n",
       "      <td>76.250000</td>\n",
       "    </tr>\n",
       "    <tr>\n",
       "      <th>max</th>\n",
       "      <td>78.000000</td>\n",
       "      <td>8.000000</td>\n",
       "      <td>295.000000</td>\n",
       "      <td>6.400000</td>\n",
       "      <td>100.000000</td>\n",
       "    </tr>\n",
       "  </tbody>\n",
       "</table>\n",
       "</div>"
      ],
      "text/plain": [
       "              Age   Bilirubin  Alk Phospat     Albumin     Protime\n",
       "count  155.000000  149.000000   126.000000  139.000000   88.000000\n",
       "mean    41.200000    1.427517   105.325397    3.817266   61.852273\n",
       "std     12.565878    1.212149    51.508109    0.651523   22.875244\n",
       "min      7.000000    0.300000    26.000000    2.100000    0.000000\n",
       "25%     32.000000    0.700000    74.250000    3.400000   46.000000\n",
       "50%     39.000000    1.000000    85.000000    4.000000   61.000000\n",
       "75%     50.000000    1.500000   132.250000    4.200000   76.250000\n",
       "max     78.000000    8.000000   295.000000    6.400000  100.000000"
      ]
     },
     "execution_count": 6,
     "metadata": {},
     "output_type": "execute_result"
    }
   ],
   "source": [
    "data.describe() #descriptive statistics"
   ]
  },
  {
   "cell_type": "code",
   "execution_count": 7,
   "metadata": {},
   "outputs": [
    {
     "data": {
      "text/plain": [
       "male      139\n",
       "female     16\n",
       "Name: Sex, dtype: int64"
      ]
     },
     "execution_count": 7,
     "metadata": {},
     "output_type": "execute_result"
    }
   ],
   "source": [
    "data['Sex'].value_counts()"
   ]
  },
  {
   "cell_type": "code",
   "execution_count": 8,
   "metadata": {},
   "outputs": [
    {
     "name": "stdout",
     "output_type": "stream",
     "text": [
      "<class 'pandas.core.frame.DataFrame'>\n",
      "RangeIndex: 155 entries, 0 to 154\n",
      "Data columns (total 11 columns):\n",
      "Class             155 non-null object\n",
      "Age               155 non-null int64\n",
      "Sex               155 non-null object\n",
      "Steroid           154 non-null object\n",
      "Anaroxia          154 non-null object\n",
      "Spleen Pabable    150 non-null object\n",
      "Spiders           150 non-null object\n",
      "Bilirubin         149 non-null float64\n",
      "Alk Phospat       126 non-null float64\n",
      "Albumin           139 non-null float64\n",
      "Protime           88 non-null float64\n",
      "dtypes: float64(4), int64(1), object(6)\n",
      "memory usage: 13.4+ KB\n"
     ]
    }
   ],
   "source": [
    "data.info()"
   ]
  },
  {
   "cell_type": "markdown",
   "metadata": {},
   "source": [
    "## Imputation Missing Value"
   ]
  },
  {
   "cell_type": "code",
   "execution_count": 9,
   "metadata": {},
   "outputs": [
    {
     "data": {
      "text/plain": [
       "Class              0\n",
       "Age                0\n",
       "Sex                0\n",
       "Steroid            1\n",
       "Anaroxia           1\n",
       "Spleen Pabable     5\n",
       "Spiders            5\n",
       "Bilirubin          6\n",
       "Alk Phospat       29\n",
       "Albumin           16\n",
       "Protime           67\n",
       "dtype: int64"
      ]
     },
     "execution_count": 9,
     "metadata": {},
     "output_type": "execute_result"
    }
   ],
   "source": [
    "np.sum(data.isnull()) #number of NA for each variable"
   ]
  },
  {
   "cell_type": "code",
   "execution_count": 11,
   "metadata": {},
   "outputs": [
    {
     "data": {
      "text/plain": [
       "Class              0\n",
       "Age                0\n",
       "Sex                0\n",
       "Steroid            1\n",
       "Anaroxia           1\n",
       "Spleen Pabable     5\n",
       "Spiders            5\n",
       "Bilirubin          6\n",
       "Alk Phospat       29\n",
       "Albumin           16\n",
       "Protime           67\n",
       "dtype: int64"
      ]
     },
     "execution_count": 11,
     "metadata": {},
     "output_type": "execute_result"
    }
   ],
   "source": [
    "data.isnull().sum()"
   ]
  },
  {
   "cell_type": "code",
   "execution_count": 12,
   "metadata": {},
   "outputs": [
    {
     "data": {
      "text/plain": [
       "130"
      ]
     },
     "execution_count": 12,
     "metadata": {},
     "output_type": "execute_result"
    }
   ],
   "source": [
    "data.isnull().sum().sum()"
   ]
  },
  {
   "cell_type": "code",
   "execution_count": 10,
   "metadata": {},
   "outputs": [
    {
     "data": {
      "text/plain": [
       "Class             False\n",
       "Age               False\n",
       "Sex               False\n",
       "Steroid            True\n",
       "Anaroxia           True\n",
       "Spleen Pabable     True\n",
       "Spiders            True\n",
       "Bilirubin         False\n",
       "Alk Phospat        True\n",
       "Albumin           False\n",
       "Protime            True\n",
       "dtype: bool"
      ]
     },
     "execution_count": 10,
     "metadata": {},
     "output_type": "execute_result"
    }
   ],
   "source": [
    "#imputasi missing value data numerik\n",
    "data['Bilirubin'] = data['Bilirubin'].fillna((data['Bilirubin'].mean())) \n",
    "data['Albumin'] = data['Albumin'].fillna((data['Albumin'].median()))\n",
    "data.isnull().any()"
   ]
  },
  {
   "cell_type": "code",
   "execution_count": 11,
   "metadata": {},
   "outputs": [
    {
     "data": {
      "text/plain": [
       "Class             False\n",
       "Age               False\n",
       "Sex               False\n",
       "Steroid            True\n",
       "Anaroxia           True\n",
       "Spleen Pabable     True\n",
       "Spiders            True\n",
       "Bilirubin         False\n",
       "Alk Phospat       False\n",
       "Albumin           False\n",
       "Protime           False\n",
       "dtype: bool"
      ]
     },
     "execution_count": 11,
     "metadata": {},
     "output_type": "execute_result"
    }
   ],
   "source": [
    "# imputasi untuk data numerik yang lain\n",
    "data['Protime']=data['Protime'].fillna(99)\n",
    "data['Alk Phospat']=data['Alk Phospat'].fillna(111)\n",
    "data.isnull().any()"
   ]
  },
  {
   "cell_type": "code",
   "execution_count": 12,
   "metadata": {},
   "outputs": [
    {
     "data": {
      "text/plain": [
       "Class             False\n",
       "Age               False\n",
       "Sex               False\n",
       "Steroid            True\n",
       "Anaroxia           True\n",
       "Spleen Pabable     True\n",
       "Spiders           False\n",
       "Bilirubin         False\n",
       "Alk Phospat       False\n",
       "Albumin           False\n",
       "Protime           False\n",
       "dtype: bool"
      ]
     },
     "execution_count": 12,
     "metadata": {},
     "output_type": "execute_result"
    }
   ],
   "source": [
    "#imputasi data kategorik dengan modus\n",
    "data['Spiders'] = data.fillna(data['Spiders'].value_counts().index[0])\n",
    "data.isnull().any()"
   ]
  },
  {
   "cell_type": "code",
   "execution_count": 13,
   "metadata": {},
   "outputs": [
    {
     "data": {
      "text/plain": [
       "Class             False\n",
       "Age               False\n",
       "Sex               False\n",
       "Steroid           False\n",
       "Anaroxia          False\n",
       "Spleen Pabable    False\n",
       "Spiders           False\n",
       "Bilirubin         False\n",
       "Alk Phospat       False\n",
       "Albumin           False\n",
       "Protime           False\n",
       "dtype: bool"
      ]
     },
     "execution_count": 13,
     "metadata": {},
     "output_type": "execute_result"
    }
   ],
   "source": [
    "#imputasi data kategorik dengan modus sesuai kolom masing2\n",
    "data = data.apply(lambda x:x.fillna(x.value_counts().index[0]))\n",
    "data.isnull().any()"
   ]
  },
  {
   "cell_type": "markdown",
   "metadata": {},
   "source": [
    "## Encode Labels"
   ]
  },
  {
   "cell_type": "code",
   "execution_count": 14,
   "metadata": {},
   "outputs": [],
   "source": [
    "from sklearn.preprocessing import LabelEncoder"
   ]
  },
  {
   "cell_type": "code",
   "execution_count": 15,
   "metadata": {},
   "outputs": [
    {
     "data": {
      "text/html": [
       "<div>\n",
       "<style scoped>\n",
       "    .dataframe tbody tr th:only-of-type {\n",
       "        vertical-align: middle;\n",
       "    }\n",
       "\n",
       "    .dataframe tbody tr th {\n",
       "        vertical-align: top;\n",
       "    }\n",
       "\n",
       "    .dataframe thead th {\n",
       "        text-align: right;\n",
       "    }\n",
       "</style>\n",
       "<table border=\"1\" class=\"dataframe\">\n",
       "  <thead>\n",
       "    <tr style=\"text-align: right;\">\n",
       "      <th></th>\n",
       "      <th>Class</th>\n",
       "      <th>Age</th>\n",
       "      <th>Sex</th>\n",
       "      <th>Steroid</th>\n",
       "      <th>Anaroxia</th>\n",
       "      <th>Spleen Pabable</th>\n",
       "      <th>Spiders</th>\n",
       "      <th>Bilirubin</th>\n",
       "      <th>Alk Phospat</th>\n",
       "      <th>Albumin</th>\n",
       "      <th>Protime</th>\n",
       "      <th>Type</th>\n",
       "    </tr>\n",
       "  </thead>\n",
       "  <tbody>\n",
       "    <tr>\n",
       "      <th>0</th>\n",
       "      <td>die</td>\n",
       "      <td>30</td>\n",
       "      <td>0</td>\n",
       "      <td>0</td>\n",
       "      <td>1</td>\n",
       "      <td>1</td>\n",
       "      <td>0</td>\n",
       "      <td>1.0</td>\n",
       "      <td>85.0</td>\n",
       "      <td>4.0</td>\n",
       "      <td>99.0</td>\n",
       "      <td>0</td>\n",
       "    </tr>\n",
       "    <tr>\n",
       "      <th>1</th>\n",
       "      <td>die</td>\n",
       "      <td>50</td>\n",
       "      <td>1</td>\n",
       "      <td>0</td>\n",
       "      <td>1</td>\n",
       "      <td>1</td>\n",
       "      <td>0</td>\n",
       "      <td>0.9</td>\n",
       "      <td>135.0</td>\n",
       "      <td>3.5</td>\n",
       "      <td>99.0</td>\n",
       "      <td>0</td>\n",
       "    </tr>\n",
       "    <tr>\n",
       "      <th>2</th>\n",
       "      <td>die</td>\n",
       "      <td>78</td>\n",
       "      <td>1</td>\n",
       "      <td>1</td>\n",
       "      <td>1</td>\n",
       "      <td>1</td>\n",
       "      <td>0</td>\n",
       "      <td>0.7</td>\n",
       "      <td>96.0</td>\n",
       "      <td>4.0</td>\n",
       "      <td>99.0</td>\n",
       "      <td>0</td>\n",
       "    </tr>\n",
       "    <tr>\n",
       "      <th>3</th>\n",
       "      <td>die</td>\n",
       "      <td>31</td>\n",
       "      <td>1</td>\n",
       "      <td>1</td>\n",
       "      <td>1</td>\n",
       "      <td>1</td>\n",
       "      <td>0</td>\n",
       "      <td>0.7</td>\n",
       "      <td>46.0</td>\n",
       "      <td>4.0</td>\n",
       "      <td>80.0</td>\n",
       "      <td>0</td>\n",
       "    </tr>\n",
       "    <tr>\n",
       "      <th>4</th>\n",
       "      <td>die</td>\n",
       "      <td>34</td>\n",
       "      <td>1</td>\n",
       "      <td>1</td>\n",
       "      <td>1</td>\n",
       "      <td>1</td>\n",
       "      <td>0</td>\n",
       "      <td>1.0</td>\n",
       "      <td>111.0</td>\n",
       "      <td>4.0</td>\n",
       "      <td>99.0</td>\n",
       "      <td>0</td>\n",
       "    </tr>\n",
       "  </tbody>\n",
       "</table>\n",
       "</div>"
      ],
      "text/plain": [
       "  Class  Age  Sex  Steroid  Anaroxia  Spleen Pabable  Spiders  Bilirubin  \\\n",
       "0   die   30    0        0         1               1        0        1.0   \n",
       "1   die   50    1        0         1               1        0        0.9   \n",
       "2   die   78    1        1         1               1        0        0.7   \n",
       "3   die   31    1        1         1               1        0        0.7   \n",
       "4   die   34    1        1         1               1        0        1.0   \n",
       "\n",
       "   Alk Phospat  Albumin  Protime  Type  \n",
       "0         85.0      4.0     99.0     0  \n",
       "1        135.0      3.5     99.0     0  \n",
       "2         96.0      4.0     99.0     0  \n",
       "3         46.0      4.0     80.0     0  \n",
       "4        111.0      4.0     99.0     0  "
      ]
     },
     "execution_count": 15,
     "metadata": {},
     "output_type": "execute_result"
    }
   ],
   "source": [
    "# Encode untuk Sex, Steroid, Anaroxia, Spleen Pabable, Spiders tanpa membuat kolom baru\n",
    "data['Type'] = LabelEncoder().fit_transform(data['Class'])\n",
    "data['Sex'] = LabelEncoder().fit_transform(data['Sex'])\n",
    "data['Steroid'] = LabelEncoder().fit_transform(data['Steroid'])\n",
    "data['Anaroxia'] = LabelEncoder().fit_transform(data['Anaroxia'])\n",
    "data['Spleen Pabable'] = LabelEncoder().fit_transform(data['Spleen Pabable'])\n",
    "data['Spiders'] = LabelEncoder().fit_transform(data['Spiders'])\n",
    "data.head()"
   ]
  },
  {
   "cell_type": "markdown",
   "metadata": {
    "collapsed": true
   },
   "source": [
    "## Standardize"
   ]
  },
  {
   "cell_type": "code",
   "execution_count": 16,
   "metadata": {},
   "outputs": [],
   "source": [
    "from sklearn.preprocessing import StandardScaler"
   ]
  },
  {
   "cell_type": "code",
   "execution_count": 17,
   "metadata": {},
   "outputs": [],
   "source": [
    "data['Age'] = StandardScaler().fit(data[['Age']]).transform(data[['Age']])\n",
    "data['Bilirubin'] = StandardScaler().fit(data[['Bilirubin']]).transform(data[['Bilirubin']])\n",
    "data['Alk Phospat'] = StandardScaler().fit(data[['Alk Phospat']]).transform(data[['Alk Phospat']])\n",
    "data['Albumin'] = StandardScaler().fit(data[['Albumin']]).transform(data[['Albumin']])\n",
    "data['Protime'] = StandardScaler().fit(data[['Protime']]).transform(data[['Protime']])"
   ]
  },
  {
   "cell_type": "markdown",
   "metadata": {},
   "source": [
    "# Normalize"
   ]
  },
  {
   "cell_type": "code",
   "execution_count": 18,
   "metadata": {},
   "outputs": [],
   "source": [
    "from sklearn.preprocessing import Normalizer \n"
   ]
  },
  {
   "cell_type": "code",
   "execution_count": 19,
   "metadata": {},
   "outputs": [],
   "source": [
    "data['Age'] = Normalizer().fit(data[['Age']]).transform(data[['Age']])\n",
    "data['Bilirubin'] = Normalizer().fit(data[['Bilirubin']]).transform(data[['Bilirubin']])\n",
    "data['Alk Phospat'] = Normalizer().fit(data[['Alk Phospat']]).transform(data[['Alk Phospat']])\n",
    "data['Albumin'] = Normalizer().fit(data[['Albumin']]).transform(data[['Albumin']])\n",
    "data['Protime'] = Normalizer().fit(data[['Protime']]).transform(data[['Protime']])"
   ]
  },
  {
   "cell_type": "code",
   "execution_count": 20,
   "metadata": {},
   "outputs": [
    {
     "data": {
      "text/html": [
       "<div>\n",
       "<style scoped>\n",
       "    .dataframe tbody tr th:only-of-type {\n",
       "        vertical-align: middle;\n",
       "    }\n",
       "\n",
       "    .dataframe tbody tr th {\n",
       "        vertical-align: top;\n",
       "    }\n",
       "\n",
       "    .dataframe thead th {\n",
       "        text-align: right;\n",
       "    }\n",
       "</style>\n",
       "<table border=\"1\" class=\"dataframe\">\n",
       "  <thead>\n",
       "    <tr style=\"text-align: right;\">\n",
       "      <th></th>\n",
       "      <th>Class</th>\n",
       "      <th>Age</th>\n",
       "      <th>Sex</th>\n",
       "      <th>Steroid</th>\n",
       "      <th>Anaroxia</th>\n",
       "      <th>Spleen Pabable</th>\n",
       "      <th>Spiders</th>\n",
       "      <th>Bilirubin</th>\n",
       "      <th>Alk Phospat</th>\n",
       "      <th>Albumin</th>\n",
       "      <th>Protime</th>\n",
       "      <th>Type</th>\n",
       "    </tr>\n",
       "  </thead>\n",
       "  <tbody>\n",
       "    <tr>\n",
       "      <th>0</th>\n",
       "      <td>die</td>\n",
       "      <td>-1.0</td>\n",
       "      <td>0</td>\n",
       "      <td>0</td>\n",
       "      <td>1</td>\n",
       "      <td>1</td>\n",
       "      <td>0</td>\n",
       "      <td>-1.0</td>\n",
       "      <td>-1.0</td>\n",
       "      <td>1.0</td>\n",
       "      <td>1.0</td>\n",
       "      <td>0</td>\n",
       "    </tr>\n",
       "    <tr>\n",
       "      <th>1</th>\n",
       "      <td>die</td>\n",
       "      <td>1.0</td>\n",
       "      <td>1</td>\n",
       "      <td>0</td>\n",
       "      <td>1</td>\n",
       "      <td>1</td>\n",
       "      <td>0</td>\n",
       "      <td>-1.0</td>\n",
       "      <td>1.0</td>\n",
       "      <td>-1.0</td>\n",
       "      <td>1.0</td>\n",
       "      <td>0</td>\n",
       "    </tr>\n",
       "    <tr>\n",
       "      <th>2</th>\n",
       "      <td>die</td>\n",
       "      <td>1.0</td>\n",
       "      <td>1</td>\n",
       "      <td>1</td>\n",
       "      <td>1</td>\n",
       "      <td>1</td>\n",
       "      <td>0</td>\n",
       "      <td>-1.0</td>\n",
       "      <td>-1.0</td>\n",
       "      <td>1.0</td>\n",
       "      <td>1.0</td>\n",
       "      <td>0</td>\n",
       "    </tr>\n",
       "    <tr>\n",
       "      <th>3</th>\n",
       "      <td>die</td>\n",
       "      <td>-1.0</td>\n",
       "      <td>1</td>\n",
       "      <td>1</td>\n",
       "      <td>1</td>\n",
       "      <td>1</td>\n",
       "      <td>0</td>\n",
       "      <td>-1.0</td>\n",
       "      <td>-1.0</td>\n",
       "      <td>1.0</td>\n",
       "      <td>1.0</td>\n",
       "      <td>0</td>\n",
       "    </tr>\n",
       "    <tr>\n",
       "      <th>4</th>\n",
       "      <td>die</td>\n",
       "      <td>-1.0</td>\n",
       "      <td>1</td>\n",
       "      <td>1</td>\n",
       "      <td>1</td>\n",
       "      <td>1</td>\n",
       "      <td>0</td>\n",
       "      <td>-1.0</td>\n",
       "      <td>1.0</td>\n",
       "      <td>1.0</td>\n",
       "      <td>1.0</td>\n",
       "      <td>0</td>\n",
       "    </tr>\n",
       "  </tbody>\n",
       "</table>\n",
       "</div>"
      ],
      "text/plain": [
       "  Class  Age  Sex  Steroid  Anaroxia  Spleen Pabable  Spiders  Bilirubin  \\\n",
       "0   die -1.0    0        0         1               1        0       -1.0   \n",
       "1   die  1.0    1        0         1               1        0       -1.0   \n",
       "2   die  1.0    1        1         1               1        0       -1.0   \n",
       "3   die -1.0    1        1         1               1        0       -1.0   \n",
       "4   die -1.0    1        1         1               1        0       -1.0   \n",
       "\n",
       "   Alk Phospat  Albumin  Protime  Type  \n",
       "0         -1.0      1.0      1.0     0  \n",
       "1          1.0     -1.0      1.0     0  \n",
       "2         -1.0      1.0      1.0     0  \n",
       "3         -1.0      1.0      1.0     0  \n",
       "4          1.0      1.0      1.0     0  "
      ]
     },
     "execution_count": 20,
     "metadata": {},
     "output_type": "execute_result"
    }
   ],
   "source": [
    "data.head()"
   ]
  },
  {
   "cell_type": "code",
   "execution_count": null,
   "metadata": {},
   "outputs": [],
   "source": []
  }
 ],
 "metadata": {
  "kernelspec": {
   "display_name": "Python 3",
   "language": "python",
   "name": "python3"
  },
  "language_info": {
   "codemirror_mode": {
    "name": "ipython",
    "version": 3
   },
   "file_extension": ".py",
   "mimetype": "text/x-python",
   "name": "python",
   "nbconvert_exporter": "python",
   "pygments_lexer": "ipython3",
   "version": "3.6.4"
  }
 },
 "nbformat": 4,
 "nbformat_minor": 2
}
