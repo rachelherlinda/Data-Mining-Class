{
  "nbformat": 4,
  "nbformat_minor": 0,
  "metadata": {
    "colab": {
      "name": "Tugas ML 1 NLP - Rachel Herlinds.ipynb",
      "provenance": [],
      "authorship_tag": "ABX9TyPxk5u80GpBZInPdC4x/9yw",
      "include_colab_link": true
    },
    "kernelspec": {
      "name": "python3",
      "display_name": "Python 3"
    },
    "language_info": {
      "name": "python"
    }
  },
  "cells": [
    {
      "cell_type": "markdown",
      "metadata": {
        "id": "view-in-github",
        "colab_type": "text"
      },
      "source": [
        "<a href=\"https://colab.research.google.com/github/rachelherlinda/Data-Mining-Class/blob/master/Tugas_ML_1_NLP_Rachel_Herlinds.ipynb\" target=\"_parent\"><img src=\"https://colab.research.google.com/assets/colab-badge.svg\" alt=\"Open In Colab\"/></a>"
      ]
    },
    {
      "cell_type": "markdown",
      "metadata": {
        "id": "PidkmsCm6O1e"
      },
      "source": [
        "## **Rachel Herlinda**\n",
        "## FGA Machine Learning - 0182180140-36\n",
        "## Tugas NLP ML Pengembangan"
      ]
    },
    {
      "cell_type": "code",
      "metadata": {
        "id": "RY7vcpEhwL2G"
      },
      "source": [
        "import pandas as pd"
      ],
      "execution_count": 1,
      "outputs": []
    },
    {
      "cell_type": "markdown",
      "metadata": {
        "id": "BDrkIWuo6sqG"
      },
      "source": [
        "Data from UCI Machine Learning, Amazon reviews"
      ]
    },
    {
      "cell_type": "code",
      "metadata": {
        "id": "ShAPPy85wvzR"
      },
      "source": [
        "data = pd.read_csv('/tmp/amazon_cells_labelled.txt', sep='\\t', header=None)\n",
        "data.columns = [\"Reviews\", \"Status\"] #status: 0 for negative review, 1 for positive reviews"
      ],
      "execution_count": 4,
      "outputs": []
    },
    {
      "cell_type": "code",
      "metadata": {
        "colab": {
          "base_uri": "https://localhost:8080/",
          "height": 203
        },
        "id": "2NMKQCJIxGf7",
        "outputId": "74e55faf-f4ff-4500-8906-bc64c0b32518"
      },
      "source": [
        "data.head()"
      ],
      "execution_count": 5,
      "outputs": [
        {
          "output_type": "execute_result",
          "data": {
            "text/html": [
              "<div>\n",
              "<style scoped>\n",
              "    .dataframe tbody tr th:only-of-type {\n",
              "        vertical-align: middle;\n",
              "    }\n",
              "\n",
              "    .dataframe tbody tr th {\n",
              "        vertical-align: top;\n",
              "    }\n",
              "\n",
              "    .dataframe thead th {\n",
              "        text-align: right;\n",
              "    }\n",
              "</style>\n",
              "<table border=\"1\" class=\"dataframe\">\n",
              "  <thead>\n",
              "    <tr style=\"text-align: right;\">\n",
              "      <th></th>\n",
              "      <th>Reviews</th>\n",
              "      <th>Status</th>\n",
              "    </tr>\n",
              "  </thead>\n",
              "  <tbody>\n",
              "    <tr>\n",
              "      <th>0</th>\n",
              "      <td>So there is no way for me to plug it in here i...</td>\n",
              "      <td>0</td>\n",
              "    </tr>\n",
              "    <tr>\n",
              "      <th>1</th>\n",
              "      <td>Good case, Excellent value.</td>\n",
              "      <td>1</td>\n",
              "    </tr>\n",
              "    <tr>\n",
              "      <th>2</th>\n",
              "      <td>Great for the jawbone.</td>\n",
              "      <td>1</td>\n",
              "    </tr>\n",
              "    <tr>\n",
              "      <th>3</th>\n",
              "      <td>Tied to charger for conversations lasting more...</td>\n",
              "      <td>0</td>\n",
              "    </tr>\n",
              "    <tr>\n",
              "      <th>4</th>\n",
              "      <td>The mic is great.</td>\n",
              "      <td>1</td>\n",
              "    </tr>\n",
              "  </tbody>\n",
              "</table>\n",
              "</div>"
            ],
            "text/plain": [
              "                                             Reviews  Status\n",
              "0  So there is no way for me to plug it in here i...       0\n",
              "1                        Good case, Excellent value.       1\n",
              "2                             Great for the jawbone.       1\n",
              "3  Tied to charger for conversations lasting more...       0\n",
              "4                                  The mic is great.       1"
            ]
          },
          "metadata": {
            "tags": []
          },
          "execution_count": 5
        }
      ]
    },
    {
      "cell_type": "markdown",
      "metadata": {
        "id": "Z2ty9Hp67TMm"
      },
      "source": [
        "Memastikan data memiliki minimal 1000 sampel"
      ]
    },
    {
      "cell_type": "code",
      "metadata": {
        "colab": {
          "base_uri": "https://localhost:8080/"
        },
        "id": "QzZjPhzG7FWE",
        "outputId": "a2ce926f-7e9e-4340-f5e1-b01c8cd3f993"
      },
      "source": [
        "data.info()"
      ],
      "execution_count": 41,
      "outputs": [
        {
          "output_type": "stream",
          "text": [
            "<class 'pandas.core.frame.DataFrame'>\n",
            "RangeIndex: 1000 entries, 0 to 999\n",
            "Data columns (total 2 columns):\n",
            " #   Column   Non-Null Count  Dtype \n",
            "---  ------   --------------  ----- \n",
            " 0   Reviews  1000 non-null   object\n",
            " 1   Status   1000 non-null   int64 \n",
            "dtypes: int64(1), object(1)\n",
            "memory usage: 15.8+ KB\n"
          ],
          "name": "stdout"
        }
      ]
    },
    {
      "cell_type": "markdown",
      "metadata": {
        "id": "HEnqmX4A7Zjt"
      },
      "source": [
        "Mengubah data ke dalam bentuk array"
      ]
    },
    {
      "cell_type": "code",
      "metadata": {
        "id": "yI7vhgDMx_dF"
      },
      "source": [
        "reviews = data['Reviews'].values\n",
        "label = data[['Status']].values"
      ],
      "execution_count": 7,
      "outputs": []
    },
    {
      "cell_type": "markdown",
      "metadata": {
        "id": "MeFnIEN87dAY"
      },
      "source": [
        "Membagi data ke dalam training dan testing"
      ]
    },
    {
      "cell_type": "code",
      "metadata": {
        "id": "vjor1ReeysfY"
      },
      "source": [
        "from sklearn.model_selection import train_test_split\n",
        "reviews_train, reviews_test, label_train, label_test = train_test_split(reviews, label, test_size=0.2)"
      ],
      "execution_count": 8,
      "outputs": []
    },
    {
      "cell_type": "markdown",
      "metadata": {
        "id": "hbsc7Taf7jqD"
      },
      "source": [
        "Tokenizer"
      ]
    },
    {
      "cell_type": "code",
      "metadata": {
        "id": "qqpcPZT1y__8"
      },
      "source": [
        "from tensorflow.keras.preprocessing.text import Tokenizer\n",
        "from tensorflow.keras.preprocessing.sequence import pad_sequences\n",
        " \n",
        "tokenizer = Tokenizer(num_words=200, oov_token='x')\n",
        "tokenizer.fit_on_texts(reviews_train) \n",
        "tokenizer.fit_on_texts(reviews_test)\n",
        " \n",
        "sekuens_train = tokenizer.texts_to_sequences(reviews_train)\n",
        "sekuens_test = tokenizer.texts_to_sequences(reviews_test)\n",
        " \n",
        "padded_train = pad_sequences(sekuens_train) \n",
        "padded_test = pad_sequences(sekuens_test)"
      ],
      "execution_count": 10,
      "outputs": []
    },
    {
      "cell_type": "markdown",
      "metadata": {
        "id": "CE5DWgTC7mWY"
      },
      "source": [
        "Model Sequential, Embedding, LSTM"
      ]
    },
    {
      "cell_type": "code",
      "metadata": {
        "id": "UjjERmu0zh1a"
      },
      "source": [
        "import tensorflow as tf\n",
        "model = tf.keras.Sequential([\n",
        "    tf.keras.layers.Embedding(input_dim=200, output_dim=16),\n",
        "    tf.keras.layers.LSTM(64),\n",
        "    tf.keras.layers.Dense(128, activation='relu'),\n",
        "    tf.keras.layers.Dense(64, activation='relu'),\n",
        "    tf.keras.layers.Dense(1, activation='sigmoid')\n",
        "])\n",
        "model.compile(loss='binary_crossentropy',optimizer='adam',metrics=['accuracy'])"
      ],
      "execution_count": 34,
      "outputs": []
    },
    {
      "cell_type": "markdown",
      "metadata": {
        "id": "T9hgDVuV7rgD"
      },
      "source": [
        "Penggunaan Callbacks"
      ]
    },
    {
      "cell_type": "code",
      "metadata": {
        "id": "qVQMa2qzzyH7"
      },
      "source": [
        "class myCallback(tf.keras.callbacks.Callback):\n",
        "  def on_epoch_end(self, epoch, logs={}):\n",
        "    if(logs.get('accuracy')>0.9):\n",
        "      print(\"\\nAkurasi telah mencapai >90%!\")\n",
        "      self.model.stop_training = True\n",
        "callbacks = myCallback()"
      ],
      "execution_count": 12,
      "outputs": []
    },
    {
      "cell_type": "code",
      "metadata": {
        "id": "-XdSrnbN3tjv"
      },
      "source": [
        "import numpy as np"
      ],
      "execution_count": 21,
      "outputs": []
    },
    {
      "cell_type": "code",
      "metadata": {
        "id": "QJ-i2gK63chS"
      },
      "source": [
        "status_train = np.asarray(label_train).astype('int32')\n",
        "status_test = np.asarray(label_test).astype('int32')"
      ],
      "execution_count": 23,
      "outputs": []
    },
    {
      "cell_type": "markdown",
      "metadata": {
        "id": "kBuHNN7N7wwG"
      },
      "source": [
        "Melatih model"
      ]
    },
    {
      "cell_type": "code",
      "metadata": {
        "colab": {
          "base_uri": "https://localhost:8080/"
        },
        "id": "oi87yv6T0MiH",
        "outputId": "bd462c5f-77f5-4d86-d16c-27d876eccf8d"
      },
      "source": [
        "num_epochs = 30\n",
        "history = model.fit(padded_train, status_train, epochs=num_epochs, \n",
        "                    validation_data=(padded_test, status_test), verbose=2, callbacks=[callbacks])"
      ],
      "execution_count": 35,
      "outputs": [
        {
          "output_type": "stream",
          "text": [
            "Epoch 1/30\n",
            "25/25 - 4s - loss: 0.6917 - accuracy: 0.5175 - val_loss: 0.6887 - val_accuracy: 0.5500\n",
            "Epoch 2/30\n",
            "25/25 - 0s - loss: 0.6731 - accuracy: 0.6125 - val_loss: 0.6535 - val_accuracy: 0.6850\n",
            "Epoch 3/30\n",
            "25/25 - 0s - loss: 0.5808 - accuracy: 0.7300 - val_loss: 0.5057 - val_accuracy: 0.7700\n",
            "Epoch 4/30\n",
            "25/25 - 0s - loss: 0.4628 - accuracy: 0.7775 - val_loss: 0.5378 - val_accuracy: 0.7150\n",
            "Epoch 5/30\n",
            "25/25 - 0s - loss: 0.3899 - accuracy: 0.8300 - val_loss: 0.5494 - val_accuracy: 0.7100\n",
            "Epoch 6/30\n",
            "25/25 - 0s - loss: 0.3553 - accuracy: 0.8450 - val_loss: 0.5239 - val_accuracy: 0.7750\n",
            "Epoch 7/30\n",
            "25/25 - 0s - loss: 0.3279 - accuracy: 0.8537 - val_loss: 0.5398 - val_accuracy: 0.7550\n",
            "Epoch 8/30\n",
            "25/25 - 0s - loss: 0.3134 - accuracy: 0.8587 - val_loss: 0.5601 - val_accuracy: 0.7700\n",
            "Epoch 9/30\n",
            "25/25 - 0s - loss: 0.2873 - accuracy: 0.8863 - val_loss: 0.5706 - val_accuracy: 0.7750\n",
            "Epoch 10/30\n",
            "25/25 - 0s - loss: 0.2635 - accuracy: 0.8938 - val_loss: 0.6255 - val_accuracy: 0.7450\n",
            "Epoch 11/30\n",
            "25/25 - 0s - loss: 0.2591 - accuracy: 0.8975 - val_loss: 0.6421 - val_accuracy: 0.7650\n",
            "Epoch 12/30\n",
            "25/25 - 0s - loss: 0.2411 - accuracy: 0.9075 - val_loss: 0.6522 - val_accuracy: 0.7600\n",
            "\n",
            "Akurasi telah mencapai >90%!\n"
          ],
          "name": "stdout"
        }
      ]
    },
    {
      "cell_type": "markdown",
      "metadata": {
        "id": "bDfEi0_a7z6W"
      },
      "source": [
        "Membuat plot loss dan accuracy"
      ]
    },
    {
      "cell_type": "code",
      "metadata": {
        "id": "cZGuiPEf0h3u"
      },
      "source": [
        "import matplotlib.pyplot as plt"
      ],
      "execution_count": 36,
      "outputs": []
    },
    {
      "cell_type": "code",
      "metadata": {
        "colab": {
          "base_uri": "https://localhost:8080/",
          "height": 295
        },
        "id": "h0K-mZqt512T",
        "outputId": "11dbf4c8-8d2e-46d2-a515-b12277504702"
      },
      "source": [
        "plt.plot(history.history['loss'])\n",
        "plt.title('Model loss')\n",
        "plt.ylabel('Loss')\n",
        "plt.xlabel('Epoch')\n",
        "plt.legend(['Train'], loc='upper right')\n",
        "plt.show()"
      ],
      "execution_count": 38,
      "outputs": [
        {
          "output_type": "display_data",
          "data": {
            "image/png": "[encoded data removed]",
            "text/plain": [
              "<Figure size 432x288 with 1 Axes>"
            ]
          },
          "metadata": {
            "tags": [],
            "needs_background": "light"
          }
        }
      ]
    },
    {
      "cell_type": "code",
      "metadata": {
        "colab": {
          "base_uri": "https://localhost:8080/",
          "height": 295
        },
        "id": "hiLTat9359Gw",
        "outputId": "53ce61ee-d28f-4257-cfb9-2632fe087926"
      },
      "source": [
        "plt.plot(history.history['accuracy'])\n",
        "plt.title('Model accuracy')\n",
        "plt.ylabel('Accuracy')\n",
        "plt.xlabel('Epoch')\n",
        "plt.legend(['Train'], loc='lower right')\n",
        "plt.show()"
      ],
      "execution_count": 39,
      "outputs": [
        {
          "output_type": "display_data",
          "data": {
            "image/png": "[encoded data removed]",
            "text/plain": [
              "<Figure size 432x288 with 1 Axes>"
            ]
          },
          "metadata": {
            "tags": [],
            "needs_background": "light"
          }
        }
      ]
    }
  ]
}